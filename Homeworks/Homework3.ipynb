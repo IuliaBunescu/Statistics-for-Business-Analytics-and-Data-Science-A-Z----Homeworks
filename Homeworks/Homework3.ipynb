{
 "cells": [
  {
   "cell_type": "markdown",
   "metadata": {},
   "source": [
    "# Homework 3\n",
    "## Section 3: Hypothesis Testing/Statistical Significance\n",
    "### Author: Julia Bunescu\n",
    "---"
   ]
  },
  {
   "cell_type": "markdown",
   "metadata": {},
   "source": [
    "You have been asked to prove (with a confidence level of 95%) that the new equipment has improved the situation and that the number of defective spoons has decreased to under 18% (from 23%). You have been supplied with a random sample of 150 spoons and found that 23 spoons have defects. "
   ]
  },
  {
   "cell_type": "markdown",
   "metadata": {},
   "source": [
    "H0 - p >= 18%\n",
    "\n",
    "H1 - p < 18%"
   ]
  },
  {
   "cell_type": "markdown",
   "metadata": {},
   "source": [
    "Start by checking H0."
   ]
  },
  {
   "cell_type": "code",
   "execution_count": 8,
   "metadata": {},
   "outputs": [
    {
     "name": "stdout",
     "output_type": "stream",
     "text": [
      "True\n",
      "True\n"
     ]
    }
   ],
   "source": [
    "# Checking conditions for sample size\n",
    "p = 0.18\n",
    "q = 1-p\n",
    "\n",
    "# Sample \n",
    "n = 150 \n",
    "p_sam =  23/n\n",
    "\n",
    "print(n*p > 10)\n",
    "print(n*q > 10)"
   ]
  },
  {
   "cell_type": "code",
   "execution_count": 19,
   "metadata": {},
   "outputs": [
    {
     "name": "stdout",
     "output_type": "stream",
     "text": [
      "miu for sample: 0.18\n",
      "Std for sample: 0.03\n",
      "Percentage of the sample statistic: 0.15\n",
      "The probability  of H0 to be True 19.76%\n",
      "The null hypothesis cannot be rejected, therefore we cannot prove that the outcome has improved.\n"
     ]
    }
   ],
   "source": [
    "import numpy as np\n",
    "import scipy.stats as st\n",
    "\n",
    "miu = p\n",
    "print('miu for sample: {}'.format(miu))\n",
    "\n",
    "std_pop = np.sqrt(p*q)\n",
    "std_sam = std_pop/np.sqrt(n)\n",
    "print('Std for sample: {}'.format(round(std_sam,2)))\n",
    "\n",
    "print('Percentage of the sample statistic: {}'.format(round(p_sam,2)))\n",
    "\n",
    "z_score = (p_sam - miu)/std_sam\n",
    "P = round(st.norm.cdf(z_score) * 100, 2)\n",
    "\n",
    "print('The probability  of H0 to be True {}%'.format(P))\n",
    "print('The null hypothesis cannot be rejected, therefore we cannot prove that the outcome has improved.')"
   ]
  },
  {
   "cell_type": "code",
   "execution_count": null,
   "metadata": {},
   "outputs": [],
   "source": []
  }
 ],
 "metadata": {
  "kernelspec": {
   "display_name": "base",
   "language": "python",
   "name": "python3"
  },
  "language_info": {
   "codemirror_mode": {
    "name": "ipython",
    "version": 3
   },
   "file_extension": ".py",
   "mimetype": "text/x-python",
   "name": "python",
   "nbconvert_exporter": "python",
   "pygments_lexer": "ipython3",
   "version": "3.10.9"
  },
  "orig_nbformat": 4
 },
 "nbformat": 4,
 "nbformat_minor": 2
}
