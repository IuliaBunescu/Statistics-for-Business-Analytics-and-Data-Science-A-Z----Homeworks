{
 "cells": [
  {
   "attachments": {},
   "cell_type": "markdown",
   "metadata": {},
   "source": [
    "# Homework 2\n",
    "## Section 2: Central Limit Theorem\n",
    "### Author: Julia Bunescu\n",
    "---"
   ]
  },
  {
   "cell_type": "markdown",
   "metadata": {},
   "source": [
    "You are a quant working for a Wall-street investment fund.\n",
    "\n",
    "The team of tarders under your supervision earns profits which can be aproximated with Laplace distribution. Profits have a mean of $95.70 and a strandard dev of $1,247. Your team makes about 100 trades every week.\n",
    "\n",
    "Questions:\n",
    "\n",
    "A. What is the probability of your team making a loss in any given week?\n",
    "\n",
    "B. What is the probability of your team making over $20 000 in any given week?"
   ]
  },
  {
   "cell_type": "code",
   "execution_count": 14,
   "metadata": {},
   "outputs": [
    {
     "name": "stdout",
     "output_type": "stream",
     "text": [
      "We have a standard deiation of $124.7 for a population with a $95.7 mean\n",
      "The probability of the team making a loss in any given week is 22.14%\n"
     ]
    }
   ],
   "source": [
    "import scipy.stats as st\n",
    "# A.\n",
    "# We have a sample of 100 trades, so we can make a normal distribution from the mean of samples\n",
    "# Values for the new distribution of means\n",
    "miu_x_bar = 95.70\n",
    "std_x_bar = 1247/10\n",
    "print('We have a standard deiation of ${} for a population with a ${} mean'.format(std_x_bar, miu_x_bar))\n",
    "\n",
    "x_limit = 0 # the limit point where it starts to be a profit\n",
    "z_score = (x_limit - miu_x_bar)/std_x_bar\n",
    "P = round(st.norm.cdf(z_score) * 100, 2)\n",
    "print('The probability of the team making a loss in any given week is {}%'.format(P))"
   ]
  },
  {
   "cell_type": "code",
   "execution_count": 19,
   "metadata": {},
   "outputs": [
    {
     "name": "stdout",
     "output_type": "stream",
     "text": [
      "The probability of the team making at least $20 000 in any given week is 20.15%\n"
     ]
    }
   ],
   "source": [
    "# B.\n",
    "# Starting from the same distribution of sample means\n",
    "x_limit = 20000/100\n",
    "z_score = (x_limit - miu_x_bar)/std_x_bar\n",
    "P = round(100 - st.norm.cdf(z_score) * 100, 2)\n",
    "print('The probability of the team making at least $20 000 in any given week is {}%'.format(P))\n"
   ]
  }
 ],
 "metadata": {
  "kernelspec": {
   "display_name": "base",
   "language": "python",
   "name": "python3"
  },
  "language_info": {
   "codemirror_mode": {
    "name": "ipython",
    "version": 3
   },
   "file_extension": ".py",
   "mimetype": "text/x-python",
   "name": "python",
   "nbconvert_exporter": "python",
   "pygments_lexer": "ipython3",
   "version": "3.10.9"
  },
  "orig_nbformat": 4
 },
 "nbformat": 4,
 "nbformat_minor": 2
}
